{
 "cells": [
  {
   "cell_type": "code",
   "execution_count": null,
   "metadata": {},
   "outputs": [],
   "source": [
    "## Consulta todos os locais previstos anteriormente\n",
    "\n",
    "import requests\n",
    "\n",
    "url = \"api_key\"\n",
    "\n",
    "response = requests.request(\"GET\", url)\n",
    "\n",
    "print(response.json())"
   ]
  },
  {
   "cell_type": "code",
   "execution_count": null,
   "metadata": {},
   "outputs": [],
   "source": [
    "##  Dados de previsão de trafego de pedestres\n",
    "\n",
    "url = \"https://besttime.app/api/v1/forecasts\"\n",
    "\n",
    "venue_list = [\n",
    "    (\"Shopping Vitoria\", \"Avenida Américo Buaiz 200, Vitória, Espirito santo\"),\n",
    "    (\"Shopping Mestre Alvaro\", \"Avenida João Palácio 300, Serra, Espirito Santo\"),\n",
    "]\n",
    "\n",
    "for venue in venue_list:\n",
    "\n",
    "    params = {\n",
    "        'api_key_private': 'api_key',\n",
    "        'venue_name': venue[0],\n",
    "        'venue_address': venue[1]\n",
    "    }\n",
    "\n",
    "    response = requests.request(\"POST\", url, params=params)\n",
    "    print(response.json())"
   ]
  },
  {
   "cell_type": "code",
   "execution_count": null,
   "metadata": {},
   "outputs": [],
   "source": [
    "## Dados de trafego de pedestres em tempo real\n",
    "\n",
    "url = \"https://besttime.app/api/v1/forecasts/live\"\n",
    "\n",
    "params = {\n",
    "    'api_key_private': 'api_key',\n",
    "    'venue_name': 'Shopping Vitoria',\n",
    "    'venue_address': 'Avenida Américo Buaiz 200, Vitória, Espirito santo'\n",
    "}\n",
    "\n",
    "response = requests.request(\"POST\", url, params=params)\n",
    "print(response.json())"
   ]
  },
  {
   "cell_type": "code",
   "execution_count": null,
   "metadata": {},
   "outputs": [],
   "source": [
    "## Dados de trafego de pedestres em locais referentes a pesquisa de locais \n",
    "\n",
    "url = \"https://besttime.app/api/v1/venues/search\"\n",
    "\n",
    "params = {\n",
    "    'api_key_private': 'api_key',\n",
    "    'q': 'shopping em Espirito Santo',\n",
    "    'num': 20,\n",
    "    'fast': False,\n",
    "    'format': 'raw'\n",
    "}\n",
    "\n",
    "response = requests.request(\"POST\", url, params=params)\n",
    "print(response.json())"
   ]
  }
 ],
 "metadata": {
  "language_info": {
   "name": "python"
  },
  "orig_nbformat": 4
 },
 "nbformat": 4,
 "nbformat_minor": 2
}
